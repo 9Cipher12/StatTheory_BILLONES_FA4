{
 "cells": [
  {
   "cell_type": "code",
   "execution_count": 1,
   "id": "af2d0f0c",
   "metadata": {},
   "outputs": [],
   "source": [
    "import numpy as np"
   ]
  },
  {
   "cell_type": "code",
   "execution_count": 2,
   "id": "e3fcb989",
   "metadata": {},
   "outputs": [],
   "source": [
    "# Define the data sets\n",
    "data_normal = np.array([67, 70, 63, 65, 68, 60, 70, 64, 69, 61, 66, 65, 71, 62, 66, 68, 64, 67, 62, 66, 65, 63, 66, 65, 63, 69, 62, 67, 59, 66, 65, 63, 65, 60, 67, 64, 68, 61, 69, 65, 62, 67, 70, 64, 63, 68, 64, 65, 61, 66])\n",
    "data_skewed_right = np.array([31, 43, 30, 30, 38, 26, 29, 55, 46, 26, 29, 57, 34, 34, 36, 40, 28, 26, 66, 63, 30, 33, 24, 35, 34, 40, 24, 29, 24, 27, 35, 33, 75, 38, 34, 85, 29, 40, 41, 36, 26, 34, 19, 23, 28, 26, 31, 25, 22, 28])\n",
    "data_skewed_left = np.array([102, 55, 70, 95, 73, 79, 60, 73, 89, 85, 72, 92, 76, 93, 76, 97, 10, 70, 85, 25, 83, 58, 10, 92, 82, 87, 104, 75, 80, 66, 93, 90, 84, 73, 98, 79, 35, 71, 90, 71, 63, 58, 82, 72, 93, 44, 65, 77, 81, 77])\n",
    "data_uniform = np.array([12.1, 12.1, 12.4, 12.1, 12.1, 12.2, 12.2, 12.2, 119, 12.2, 12.3, 12.3, 11.7, 12.3, 12.3, 12.4, 12.4, 12.1, 12.4, 12.4, 12.5, 11.8, 12.5, 12.5, 12.5, 11.6, 11.6, 12.0, 11.6, 11.6, 11.7, 12.3, 117, 11.7, 11.7, 118, 12.5, 11.8, 11.8, 11.8, 119, 11.9, 11.9, 122, 11.9, 12.0, 11.9, 12.0, 12.0, 12.0])"
   ]
  },
  {
   "cell_type": "code",
   "execution_count": 3,
   "id": "70ebc2e4",
   "metadata": {},
   "outputs": [],
   "source": [
    "# Function to calculate nth moment\n",
    "def nth_moment(data, n):\n",
    "    mean = np.mean(data)\n",
    "    return np.mean((data - mean)**n)\n",
    "\n",
    "# Function to calculate nth moment about the mean\n",
    "def nth_moment_about_mean(data, n):\n",
    "    mean = np.mean(data)\n",
    "    return np.mean((data - mean)**n)"
   ]
  },
  {
   "cell_type": "code",
   "execution_count": 4,
   "id": "a190bc5f",
   "metadata": {},
   "outputs": [],
   "source": [
    "# First, second, third, and fourth moments for each dataset\n",
    "moments_normal = [nth_moment(data_normal, n) for n in range(1, 5)]\n",
    "moments_skewed_right = [nth_moment(data_skewed_right, n) for n in range(1, 5)]\n",
    "moments_skewed_left = [nth_moment(data_skewed_left, n) for n in range(1, 5)]\n",
    "moments_uniform = [nth_moment(data_uniform, n) for n in range(1, 5)]\n",
    "\n",
    "# First, second, third, and fourth moments about the mean for each dataset\n",
    "moments_about_mean_normal = [nth_moment_about_mean(data_normal, n) for n in range(1, 5)]\n",
    "moments_about_mean_skewed_right = [nth_moment_about_mean(data_skewed_right, n) for n in range(1, 5)]\n",
    "moments_about_mean_skewed_left = [nth_moment_about_mean(data_skewed_left, n) for n in range(1, 5)]\n",
    "moments_about_mean_uniform = [nth_moment_about_mean(data_uniform, n) for n in range(1, 5)]\n"
   ]
  },
  {
   "cell_type": "code",
   "execution_count": 5,
   "id": "26cdcd21",
   "metadata": {},
   "outputs": [
    {
     "name": "stdout",
     "output_type": "stream",
     "text": [
      "Moments for Normal Data:\n",
      "First Moment: -4.547473508864641e-15\n",
      "Second Moment: 8.3056\n",
      "Third Moment: -0.4717440000001135\n",
      "Fourth Moment: 160.94862592\n",
      "\n",
      "Moments for Skewed Right Data:\n",
      "First Moment: 0.0\n",
      "Second Moment: 178.89\n",
      "Third Moment: 4577.4\n",
      "Fourth Moment: 210276.2625\n",
      "\n",
      "Moments for Skewed Left Data:\n",
      "First Moment: -2.842170943040401e-15\n",
      "Second Moment: 419.76000000000005\n",
      "Third Moment: -12498.264000000003\n",
      "Fourth Moment: 927289.7472\n",
      "\n",
      "Moments for Uniform Data:\n",
      "First Moment: -6.252776074688882e-15\n",
      "Second Moment: 1029.3514439999997\n",
      "Third Moment: 88100.70926659199\n",
      "Fourth Moment: 8604094.4326993\n",
      "\n"
     ]
    }
   ],
   "source": [
    "# Display the results\n",
    "print(\"Moments for Normal Data:\")\n",
    "print(\"First Moment:\", moments_normal[0])\n",
    "print(\"Second Moment:\", moments_normal[1])\n",
    "print(\"Third Moment:\", moments_normal[2])\n",
    "print(\"Fourth Moment:\", moments_normal[3])\n",
    "print()\n",
    "\n",
    "print(\"Moments for Skewed Right Data:\")\n",
    "print(\"First Moment:\", moments_skewed_right[0])\n",
    "print(\"Second Moment:\", moments_skewed_right[1])\n",
    "print(\"Third Moment:\", moments_skewed_right[2])\n",
    "print(\"Fourth Moment:\", moments_skewed_right[3])\n",
    "print()\n",
    "\n",
    "print(\"Moments for Skewed Left Data:\")\n",
    "print(\"First Moment:\", moments_skewed_left[0])\n",
    "print(\"Second Moment:\", moments_skewed_left[1])\n",
    "print(\"Third Moment:\", moments_skewed_left[2])\n",
    "print(\"Fourth Moment:\", moments_skewed_left[3])\n",
    "print()\n",
    "\n",
    "print(\"Moments for Uniform Data:\")\n",
    "print(\"First Moment:\", moments_uniform[0])\n",
    "print(\"Second Moment:\", moments_uniform[1])\n",
    "print(\"Third Moment:\", moments_uniform[2])\n",
    "print(\"Fourth Moment:\", moments_uniform[3])\n",
    "print()"
   ]
  },
  {
   "cell_type": "code",
   "execution_count": 8,
   "id": "d9501449",
   "metadata": {},
   "outputs": [],
   "source": [
    "# Now, let's verify the relations for the set of female height measurements\n",
    "female_height_data = np.array([162, 155, 168, 170, 157, 165, 160, 175, 172, 164])\n",
    "\n",
    "# First, second, third, and fourth moments about the number 75 for female height measurements\n",
    "moments_about_75 = [nth_moment_about_mean(female_height_data, n) for n in range(1, 5)]\n",
    "\n",
    "# Verify the relations\n",
    "m2 = moments_about_75[1]\n",
    "m3 = moments_about_75[2]\n",
    "m4 = moments_about_75[3]\n",
    "\n",
    "m2_prime = moments_about_mean_normal[1]\n",
    "m3_prime = moments_about_mean_normal[2]\n",
    "m4_prime = moments_about_mean_normal[3]\n",
    "\n",
    "# Verify the relations\n",
    "relation_a = m2 == m2_prime - (m2_prime**2)\n",
    "relation_b = m3 == m3_prime - 3 * m2_prime * m2_prime + 2 * (m2_prime**3)\n",
    "relation_c = m4 == m4_prime - 2 * m2_prime * m3_prime + (m2_prime**2) * m2_prime - 3 * (m2_prime**4)"
   ]
  },
  {
   "cell_type": "code",
   "execution_count": 9,
   "id": "7e2a40dc",
   "metadata": {},
   "outputs": [
    {
     "name": "stdout",
     "output_type": "stream",
     "text": [
      "Verifying Relations:\n",
      "a) m2 == m2' - (m2')^2: False\n",
      "b) m3 == m3' - 3*m2'*m2' + 2*(m2')^3: False\n",
      "c) m4 == m4' - 2*m2'*m3' + (m2')^2*m2' - 3*(m2')^4: False\n"
     ]
    }
   ],
   "source": [
    "\n",
    "print(\"Verifying Relations:\")\n",
    "print(\"a) m2 == m2' - (m2')^2:\", relation_a)\n",
    "print(\"b) m3 == m3' - 3*m2'*m2' + 2*(m2')^3:\", relation_b)\n",
    "print(\"c) m4 == m4' - 2*m2'*m3' + (m2')^2*m2' - 3*(m2')^4:\", relation_c)"
   ]
  },
  {
   "cell_type": "code",
   "execution_count": null,
   "id": "360b5c4e",
   "metadata": {},
   "outputs": [],
   "source": []
  }
 ],
 "metadata": {
  "kernelspec": {
   "display_name": "Python 3 (ipykernel)",
   "language": "python",
   "name": "python3"
  },
  "language_info": {
   "codemirror_mode": {
    "name": "ipython",
    "version": 3
   },
   "file_extension": ".py",
   "mimetype": "text/x-python",
   "name": "python",
   "nbconvert_exporter": "python",
   "pygments_lexer": "ipython3",
   "version": "3.9.13"
  }
 },
 "nbformat": 4,
 "nbformat_minor": 5
}
